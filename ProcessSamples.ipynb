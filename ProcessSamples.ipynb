{
 "cells": [
  {
   "cell_type": "markdown",
   "metadata": {},
   "source": [
    "# Preprocessing All of the Samples and Storing the Sounds as Numerical Data"
   ]
  },
  {
   "cell_type": "code",
   "execution_count": 2,
   "metadata": {
    "collapsed": false
   },
   "outputs": [],
   "source": [
    "import os\n",
    "from scipy.io import wavfile\n",
    "from scipy.fftpack import fft\n",
    "import matplotlib.pyplot as plt\n",
    "from pylab import *\n",
    "\n",
    "def list_samples_from_directory (sample_dir, include_dir_path) :\n",
    "    '''\n",
    "        list file names from directory that end in .wav\n",
    "        either include or exclude directory path (probably always use true)\n",
    "    '''\n",
    "    if include_dir_path:\n",
    "        sound_files = [sample_dir + file for file in os.listdir(sample_dir) if \".wav\" in file and \".asd\" not in file]\n",
    "    else :\n",
    "        sound_files = [file for file in os.listdir(sample_dir) if \".wav\" in file]\n",
    "    return sound_files\n",
    "\n",
    "def split_whole_wav_to_individual_samples (sample_path, shortened_samples_destination, \n",
    "                                           desired_sample_time, time_between_samples) :\n",
    "    '''\n",
    "        Splits long sound samples into shorter samples taking into account spacing between the sounds\n",
    "        Writes them to new files\n",
    "        \n",
    "        TODO: write data to a data file\n",
    "    '''\n",
    "    sample_rate, sample = wavfile.read(sample_path)\n",
    "\n",
    "    sample_length = convert_sec_to_index(sample_rate, desired_sample_time)\n",
    "    split_length = convert_sec_to_index(sample_rate, time_between_samples)\n",
    "    \n",
    "    individual_samples = [sample[i : i + sample_length] for i in range (0, len(sample), sample_length + split_length)]\n",
    "    counter = 0\n",
    "    for i in individual_samples :\n",
    "        wavfile.write(shortened_samples_destination + str(counter)+\".wav\", sample_rate, i)\n",
    "        counter += 1\n",
    "    \n",
    "def convert_sec_to_index (sampleRate, time):\n",
    "    return int(time * sampleRate)\n",
    "\n"
   ]
  },
  {
   "cell_type": "markdown",
   "metadata": {},
   "source": [
    "## Execute"
   ]
  },
  {
   "cell_type": "code",
   "execution_count": 6,
   "metadata": {
    "collapsed": false
   },
   "outputs": [
    {
     "name": "stdout",
     "output_type": "stream",
     "text": [
      "Grand Samples:\n",
      "\t['./Samples/Grand/Grand.wav', './Samples/Grand/Grand2.wav']\n",
      "Clav Samples:\n",
      "\t['./Samples/Clav/ClavinetSamples.wav']\n",
      "RhodesSamples:\n",
      "\t['./Samples/Rhodes/RhodesSamples.wav']\n",
      "BassSamples:\n",
      "\t['./Samples/Bass/Bass.wav']\n",
      "['./Samples/Grand/Grand.wav', './Samples/Grand/Grand2.wav']\n"
     ]
    }
   ],
   "source": [
    "grandSamples = list_samples_from_directory (\"./Samples/Grand/\", True)\n",
    "clavSamples = list_samples_from_directory (\"./Samples/Clav/\", True)\n",
    "rhodesSamples = list_samples_from_directory(\"./Samples/Rhodes/\", True)\n",
    "bassSamples = list_samples_from_directory(\"./Samples/Bass/\", True)\n",
    "\n",
    "sample_sets_list = [[grandSamples, \"./Samples/Grand/\"],\n",
    "                [clavSamples, \"./Samples/Clav/\"],\n",
    "                [rhodesSamples, \"./Samples/Rhodes/\"],\n",
    "                [bassSamples, \"./Samples/Bass/\"]]\n",
    "\n",
    "print (\"Grand Samples:\\n\\t%s\\n\\\n",
    "Clav Samples:\\n\\t%s\\n\\\n",
    "RhodesSamples:\\n\\t%s\\n\\\n",
    "BassSamples:\\n\\t%s\" %(grandSamples, clavSamples, rhodesSamples, bassSamples))\n",
    "\n",
    "# split_whole_wav_to_individual_samples (grandSamples[0], \"./Samples/Grand/Shortened/\", 1.2, .8)\n",
    "print (sample_sets_list[0][0])\n",
    "\n",
    "for instrument_samples in sample_sets_list :\n",
    "    sample_dir_path = instrument_samples[1]\n",
    "    counter = 0\n",
    "    for sample in instrument_samples[0]:\n",
    "        split_whole_wav_to_individual_samples (sample, sample_dir_path+\"/Shortened/\", 1.2, .8)\n",
    "        counter += 1\n",
    "\n"
   ]
  },
  {
   "cell_type": "code",
   "execution_count": null,
   "metadata": {
    "collapsed": true
   },
   "outputs": [],
   "source": []
  },
  {
   "cell_type": "code",
   "execution_count": null,
   "metadata": {
    "collapsed": true
   },
   "outputs": [],
   "source": []
  }
 ],
 "metadata": {
  "kernelspec": {
   "display_name": "Python 3",
   "language": "python",
   "name": "python3"
  },
  "language_info": {
   "codemirror_mode": {
    "name": "ipython",
    "version": 3
   },
   "file_extension": ".py",
   "mimetype": "text/x-python",
   "name": "python",
   "nbconvert_exporter": "python",
   "pygments_lexer": "ipython3",
   "version": "3.6.0"
  }
 },
 "nbformat": 4,
 "nbformat_minor": 2
}
