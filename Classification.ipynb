{
 "cells": [
  {
   "cell_type": "markdown",
   "metadata": {},
   "source": [
    "# Classification Time!"
   ]
  },
  {
   "cell_type": "code",
   "execution_count": 7,
   "metadata": {
    "collapsed": true
   },
   "outputs": [],
   "source": [
    "def calculateBayesianProbability(Cov1, Cov2, Query, Mean1, Mean2,\n",
    "                                 Num1, Num2):\n",
    "    x = Num1 * calculatePDF(Cov1, Query, Mean1)\n",
    "    \n",
    "    y = Num2 * calculatePDF(Cov2, Query, Mean2)\n",
    "\n",
    "    \n",
    "    probability = x / (x + y)\n",
    "    return probability\n",
    "\n",
    "def calculatePDF(Cov, Query, Mean) :\n",
    "    return ((1/(2 * np.pi * np.sqrt(np.linalg.det(Cov)))) * \n",
    "            np.exp(-(1/2) *(np.subtract(Query, Mean)) * np.linalg.inv(Cov) * \n",
    "                  np.subtract(Query, Mean).transpose()))\n"
   ]
  },
  {
   "cell_type": "code",
   "execution_count": 83,
   "metadata": {
    "collapsed": false
   },
   "outputs": [],
   "source": [
    "from sklearn.naive_bayes import GaussianNB\n",
    "import numpy as np\n",
    "import pandas as pd\n",
    "\n",
    "def generate_classifier_nb(file):\n",
    "    feature_vects_df = pd.read_csv(file)\n",
    "    \n",
    "    classLabels = []\n",
    "    feature_vectors = []\n",
    "    \n",
    "    vectors = {}\n",
    "    \n",
    "    targets = []\n",
    "    test_vectors = []\n",
    "#     rows = feature_vects_df.iterrows()\n",
    "#     for i in range (0, int(feature_vects_df.shape[0] - 1)):\n",
    "#         index, data = next(rows)\n",
    "#         temp_list = list(data)\n",
    "#         if (i < feature_vects_df.shape[0] * .7) :\n",
    "#             classLabels.append(temp_list[0])\n",
    "#             feature_vectors.append(temp_list[1:])\n",
    "#         else :\n",
    "#             targets.append(temp_list[0])\n",
    "#             test_vectors.append(temp_list[1:])\n",
    "    \n",
    "    for row in feature_vects_df.iterrows():\n",
    "        index, data = row\n",
    "        temp_list = list(data)\n",
    "#         classLabels.append(temp_list[0])\n",
    "#         feature_vectors.append(temp_list[1:])\n",
    "        if (temp_list[0] not in vectors) :\n",
    "            vectors[temp_list[0]] = [temp_list[1:]]\n",
    "        else:\n",
    "            vectors[temp_list[0]].append(temp_list[1:])\n",
    "    \n",
    "    for key in vectors.keys() :\n",
    "        number_of_vectors = len(vectors[key])\n",
    "        for i in range(0, number_of_vectors):\n",
    "            if i < int (number_of_vectors * .7) - 1:\n",
    "                feature_vectors.append(vectors[key][i])\n",
    "                classLabels.append(key)\n",
    "            else :\n",
    "                test_vectors.append(vectors[key][i])\n",
    "                targets.append(key)     \n",
    "        \n",
    "    \n",
    "    clNP = np.array(classLabels)\n",
    "    fvNP = np.array(feature_vectors)    \n",
    "    \n",
    "    gnb = GaussianNB()\n",
    "    \n",
    "    gnb = gnb.fit(fvNP, clNP)\n",
    "    \n",
    "    return gnb, np.array(test_vectors), targets, len(classLabels)"
   ]
  },
  {
   "cell_type": "markdown",
   "metadata": {},
   "source": [
    "## Classifying "
   ]
  },
  {
   "cell_type": "code",
   "execution_count": 102,
   "metadata": {
    "collapsed": false
   },
   "outputs": [
    {
     "name": "stdout",
     "output_type": "stream",
     "text": [
      "GrandPiano vs Bass Guitar\n",
      "\tNumber of mislabeled points out of a total 674 points : 0\n",
      "\tTrainingSetSize : 1566\n",
      "GrandPiano vs Rhodes vs Clav\n",
      "\tNumber of mislabeled points out of a total 1011 points : 115\n",
      "\tTrainingSetSize : 2349\n",
      "GrandPiano vs Rhodes vs Clav vs Bass\n",
      "\tNumber of mislabeled points out of a total 1348 points : 118\n",
      "\tTrainingSetSize : 3132\n",
      "GrandPiano vs Rhodes vs Clav vs Bass vs Clarinet\n",
      "\tNumber of mislabeled points out of a total 831 points : 82\n",
      "\tTrainingSetSize : 1921\n",
      "Clarinet vs Grand Piano\n",
      "\tNumber of mislabeled points out of a total 252 points : 52\n",
      "\tTrainingSetSize : 580\n",
      "Clarinet vs Violin Less Samples\n",
      "\tNumber of mislabeled points out of a total 55 points : 55\n",
      "\tTrainingSetSize : 121\n",
      "Clarinet vs Violin More Samples\n",
      "\tNumber of mislabeled points out of a total 927 points : 842\n",
      "\tTrainingSetSize : 2153\n"
     ]
    }
   ],
   "source": [
    "'''\n",
    "    grand piano + bass guitar classifier\n",
    "'''\n",
    "print (\"GrandPiano vs Bass Guitar\")\n",
    "two_instrument_classifier, testset, target, numTraining = generate_classifier_nb(\"./feature_vectors_2_instruments.csv\")\n",
    "predictions = two_instrument_classifier.predict(testset)\n",
    "print(\"\\tNumber of mislabeled points out of a total %d points : %d\\n\\tTrainingSetSize : %i\" \n",
    "      % (testset.shape[0],(target != predictions).sum(), numTraining))\n",
    "'''\n",
    "    three pianos\n",
    "'''\n",
    "print (\"GrandPiano vs Rhodes vs Clav\")\n",
    "three_pianos_classifier, testset, target, numTraining = generate_classifier_nb(\"./feature_vectors_3_instruments.csv\")\n",
    "predictions = three_pianos_classifier.predict(testset)\n",
    "print(\"\\tNumber of mislabeled points out of a total %d points : %d\\n\\tTrainingSetSize : %i\" \n",
    "      % (testset.shape[0],(target != predictions).sum(), numTraining))\n",
    "'''\n",
    "    all 4\n",
    "'''\n",
    "print (\"GrandPiano vs Rhodes vs Clav vs Bass\")\n",
    "four_instrument_classifier, testset, target, numTraining = generate_classifier_nb(\"./feature_vectors_4_instruments.csv\")\n",
    "predictions = four_instrument_classifier.predict(testset)\n",
    "print(\"\\tNumber of mislabeled points out of a total %d points : %d\\n\\tTrainingSetSize : %i\" \n",
    "      % (testset.shape[0],(target != predictions).sum(), numTraining))\n",
    "'''\n",
    "    5 instruments\n",
    "'''\n",
    "print (\"GrandPiano vs Rhodes vs Clav vs Bass vs Clarinet\")\n",
    "five_instrument_classifier, testset, target, numTraining = generate_classifier_nb(\"./feature_vectors_5_instruments.csv\")\n",
    "predictions = five_instrument_classifier.predict(testset)\n",
    "print(\"\\tNumber of mislabeled points out of a total %d points : %d\\n\\tTrainingSetSize : %i\" \n",
    "      % (testset.shape[0],(target != predictions).sum(), numTraining))\n",
    "\n",
    "'''\n",
    "    Clarinet vs Grand Piano\n",
    "'''\n",
    "print (\"Clarinet vs Grand Piano\")\n",
    "clar_vs_piano, testset,target, numTraining = generate_classifier_nb(\"./clar_vs_piano.csv\")\n",
    "predictions = five_instrument_classifier.predict(testset)\n",
    "print(\"\\tNumber of mislabeled points out of a total %d points : %d\\n\\tTrainingSetSize : %i\" \n",
    "      % (testset.shape[0],(target != predictions).sum(), numTraining))\n",
    "\n",
    "'''\n",
    "    Clarinet vs Violin Less Samples\n",
    "'''\n",
    "print (\"Clarinet vs Violin Less Samples\")\n",
    "clar_vs_piano, testset,target, numTraining = generate_classifier_nb(\"./clar_vs_violin_less_samples.csv\")\n",
    "predictions = five_instrument_classifier.predict(testset)\n",
    "print(\"\\tNumber of mislabeled points out of a total %d points : %d\\n\\tTrainingSetSize : %i\" \n",
    "      % (testset.shape[0],(target != predictions).sum(), numTraining))\n",
    "\n",
    "'''\n",
    "    Clarinet vs Violin More Samples\n",
    "'''\n",
    "print (\"Clarinet vs Violin More Samples\")\n",
    "clar_vs_piano, testset,target, numTraining = generate_classifier_nb(\"./clar_vs_violin_more_samples.csv\")\n",
    "predictions = five_instrument_classifier.predict(testset)\n",
    "print(\"\\tNumber of mislabeled points out of a total %d points : %d\\n\\tTrainingSetSize : %i\" \n",
    "      % (testset.shape[0],(target != predictions).sum(), numTraining))"
   ]
  },
  {
   "cell_type": "code",
   "execution_count": 100,
   "metadata": {
    "collapsed": false
   },
   "outputs": [
    {
     "name": "stdout",
     "output_type": "stream",
     "text": [
      "GrandPiano vs Bass Guitar Shifted\n",
      "\tNumber of mislabeled points out of a total 2690 points : 4\n",
      "\tTrainingSetSize : 6270\n",
      "GrandPiano vs Rhodes vs Clav Shifted\n",
      "\tNumber of mislabeled points out of a total 4035 points : 228\n",
      "\tTrainingSetSize : 9405\n",
      "GrandPiano vs Rhodes vs Clav vs Bass Shifted\n",
      "\tNumber of mislabeled points out of a total 5380 points : 235\n",
      "\tTrainingSetSize : 12540\n",
      "GrandPiano vs Clarinet Shifted\n",
      "\tNumber of mislabeled points out of a total 1250 points : 50\n",
      "\tTrainingSetSize : 2910\n"
     ]
    }
   ],
   "source": [
    "'''\n",
    "    grand piano + bass guitar classifier\n",
    "'''\n",
    "print (\"GrandPiano vs Bass Guitar Shifted\")\n",
    "two_instrument_classifier, testset, target, numTraining = generate_classifier_nb(\"./feature_vectors_2_instruments_shift.csv\")\n",
    "predictions = two_instrument_classifier.predict(testset)\n",
    "print(\"\\tNumber of mislabeled points out of a total %d points : %d\\n\\tTrainingSetSize : %i\" \n",
    "      % (testset.shape[0],(target != predictions).sum(), numTraining))\n",
    "'''\n",
    "    three pianos\n",
    "'''\n",
    "print (\"GrandPiano vs Rhodes vs Clav Shifted\")\n",
    "three_pianos_classifier, testset, target, numTraining = generate_classifier_nb(\"./feature_vectors_3_instruments_shift.csv\")\n",
    "predictions = three_pianos_classifier.predict(testset)\n",
    "print(\"\\tNumber of mislabeled points out of a total %d points : %d\\n\\tTrainingSetSize : %i\" \n",
    "      % (testset.shape[0],(target != predictions).sum(), numTraining))\n",
    "'''\n",
    "    all 4\n",
    "'''\n",
    "print (\"GrandPiano vs Rhodes vs Clav vs Bass Shifted\")\n",
    "four_instrument_classifier, testset, target, numTraining = generate_classifier_nb(\"./feature_vectors_4_instruments_shift.csv\")\n",
    "predictions = four_instrument_classifier.predict(testset)\n",
    "print(\"\\tNumber of mislabeled points out of a total %d points : %d\\n\\tTrainingSetSize : %i\" \n",
    "      % (testset.shape[0],(target != predictions).sum(), numTraining))\n",
    "\n",
    "'''\n",
    "    Clarinet vs Grand shifted\n",
    "'''\n",
    "print (\"GrandPiano vs Clarinet Shifted\")\n",
    "four_instrument_classifier, testset, target, numTraining = generate_classifier_nb(\"./clar_vs_piano_shift.csv\")\n",
    "predictions = four_instrument_classifier.predict(testset)\n",
    "print(\"\\tNumber of mislabeled points out of a total %d points : %d\\n\\tTrainingSetSize : %i\" \n",
    "      % (testset.shape[0],(target != predictions).sum(), numTraining))"
   ]
  },
  {
   "cell_type": "code",
   "execution_count": null,
   "metadata": {
    "collapsed": true
   },
   "outputs": [],
   "source": []
  }
 ],
 "metadata": {
  "kernelspec": {
   "display_name": "Python 3",
   "language": "python",
   "name": "python3"
  },
  "language_info": {
   "codemirror_mode": {
    "name": "ipython",
    "version": 3
   },
   "file_extension": ".py",
   "mimetype": "text/x-python",
   "name": "python",
   "nbconvert_exporter": "python",
   "pygments_lexer": "ipython3",
   "version": "3.6.0"
  }
 },
 "nbformat": 4,
 "nbformat_minor": 2
}
