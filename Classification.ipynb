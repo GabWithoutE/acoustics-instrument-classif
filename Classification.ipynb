{
 "cells": [
  {
   "cell_type": "markdown",
   "metadata": {},
   "source": [
    "# Classification Time!"
   ]
  },
  {
   "cell_type": "code",
   "execution_count": 2,
   "metadata": {
    "collapsed": true
   },
   "outputs": [],
   "source": [
    "def calculateBayesianProbability(Cov1, Cov2, Query, Mean1, Mean2,\n",
    "                                 Num1, Num2):\n",
    "    x = Num1 * calculatePDF(Cov1, Query, Mean1)\n",
    "    \n",
    "    y = Num2 * calculatePDF(Cov2, Query, Mean2)\n",
    "\n",
    "    \n",
    "    probability = x / (x + y)\n",
    "    return probability\n",
    "\n",
    "def calculatePDF(Cov, Query, Mean) :\n",
    "    return ((1/(2 * np.pi * np.sqrt(np.linalg.det(Cov)))) * \n",
    "            np.exp(-(1/2) *(np.subtract(Query, Mean)) * np.linalg.inv(Cov) * \n",
    "                  np.subtract(Query, Mean).transpose()))\n"
   ]
  },
  {
   "cell_type": "code",
   "execution_count": 3,
   "metadata": {
    "collapsed": false
   },
   "outputs": [],
   "source": [
    "from sklearn.naive_bayes import GaussianNB\n",
    "import numpy as np\n",
    "import pandas as pd\n",
    "\n",
    "def generate_classifier_nb(file):\n",
    "    feature_vects_df = pd.read_csv(file)\n",
    "#     print (feature_vects_df.iloc[2])\n",
    "#     print (feature_vects_df.iloc[3054])\n",
    "    classLabels = []\n",
    "    feature_vectors = []\n",
    "    \n",
    "    vectors = {}\n",
    "    \n",
    "    targets = []\n",
    "    test_vectors = []\n",
    "    \n",
    "    for row in feature_vects_df.iterrows():\n",
    "        index, data = row\n",
    "        temp_list = list(data)\n",
    "#         classLabels.append(temp_list[0])\n",
    "#         feature_vectors.append(temp_list[1:])\n",
    "        if (temp_list[0] not in vectors) :\n",
    "            vectors[temp_list[0]] = [temp_list[1:]]\n",
    "        else:\n",
    "            vectors[temp_list[0]].append(temp_list[1:])\n",
    "    \n",
    "    for key in vectors.keys() :\n",
    "        number_of_vectors = len(vectors[key])\n",
    "        for i in range(0, number_of_vectors):\n",
    "            if i < int (number_of_vectors * .7) - 1:\n",
    "                feature_vectors.append(vectors[key][i])\n",
    "                classLabels.append(key)\n",
    "            else :\n",
    "                test_vectors.append(vectors[key][i])\n",
    "                targets.append(key)     \n",
    "        \n",
    "    \n",
    "    clNP = np.array(classLabels)\n",
    "    fvNP = np.array(feature_vectors)    \n",
    "    \n",
    "    gnb = GaussianNB()\n",
    "    \n",
    "    gnb = gnb.fit(fvNP, clNP)\n",
    "    \n",
    "    return gnb, np.array(test_vectors), targets, len(classLabels)\n",
    "\n",
    "def generate_test_set (file):\n",
    "    feature_vects_df = pd.read_csv(file)\n",
    "\n",
    "    targets = []\n",
    "    features = []\n",
    "    for row in feature_vects_df.iterrows():\n",
    "        index, data = row\n",
    "        temp_list = list(data)\n",
    "        targets.append(temp_list[0])\n",
    "        features.append(temp_list[1:])\n",
    "    return np.array(targets), np.array(features)\n",
    "            \n"
   ]
  },
  {
   "cell_type": "markdown",
   "metadata": {},
   "source": [
    "## Classifying "
   ]
  },
  {
   "cell_type": "code",
   "execution_count": 8,
   "metadata": {
    "collapsed": false
   },
   "outputs": [
    {
     "name": "stdout",
     "output_type": "stream",
     "text": [
      "GrandPiano vs Bass Guitar\n",
      "\tNumber of mislabeled points out of a total 674 points : 0\n",
      "\tRatio correct:1.000000\n",
      "\tTrainingSetSize : 1566\n",
      "GrandPiano vs Rhodes vs Clav\n",
      "\tNumber of mislabeled points out of a total 1011 points : 115\n",
      "\tRatio correct:0.886251\n",
      "\tTrainingSetSize : 2349\n",
      "GrandPiano vs Rhodes vs Clav vs Bass\n",
      "\tNumber of mislabeled points out of a total 1348 points : 118\n",
      "\tRatio correct:0.912463\n",
      "\tTrainingSetSize : 3132\n",
      "GrandPiano vs Rhodes vs Clav vs Bass vs Clarinet\n",
      "\tNumber of mislabeled points out of a total 831 points : 82\n",
      "\tRatio correct:0.901324\n",
      "\tTrainingSetSize : 1921\n",
      "Clarinet vs Grand Piano\n",
      "\tNumber of mislabeled points out of a total 252 points : 12\n",
      "\tRatio correct:0.952381\n",
      "\tTrainingSetSize : 580\n"
     ]
    }
   ],
   "source": [
    "'''\n",
    "    grand piano + bass guitar classifier\n",
    "'''\n",
    "print (\"GrandPiano vs Bass Guitar\")\n",
    "two_instrument_classifier, testset, target, numTraining = generate_classifier_nb(\"./feature_vectors_2_instruments.csv\")\n",
    "predictions = two_instrument_classifier.predict(testset)\n",
    "print(\"\\tNumber of mislabeled points out of a total %d points : %d\\n\\tRatio correct:%f\\n\\tTrainingSetSize : %i\" \n",
    "      % (testset.shape[0],(target != predictions).sum(),(target == predictions).sum()/testset.shape[0], numTraining))\n",
    "'''\n",
    "    three pianos\n",
    "'''\n",
    "print (\"GrandPiano vs Rhodes vs Clav\")\n",
    "three_pianos_classifier, testset, target, numTraining = generate_classifier_nb(\"./feature_vectors_3_instruments.csv\")\n",
    "predictions = three_pianos_classifier.predict(testset)\n",
    "print(\"\\tNumber of mislabeled points out of a total %d points : %d\\n\\tRatio correct:%f\\n\\tTrainingSetSize : %i\" \n",
    "      % (testset.shape[0],(target != predictions).sum(),(target == predictions).sum()/testset.shape[0], numTraining))\n",
    "'''\n",
    "    all 4\n",
    "'''\n",
    "print (\"GrandPiano vs Rhodes vs Clav vs Bass\")\n",
    "four_instrument_classifier, testset, target, numTraining = generate_classifier_nb(\"./feature_vectors_4_instruments.csv\")\n",
    "predictions = four_instrument_classifier.predict(testset)\n",
    "print(\"\\tNumber of mislabeled points out of a total %d points : %d\\n\\tRatio correct:%f\\n\\tTrainingSetSize : %i\" \n",
    "      % (testset.shape[0],(target != predictions).sum(),(target == predictions).sum()/testset.shape[0], numTraining))\n",
    "'''\n",
    "    5 instruments\n",
    "'''\n",
    "print (\"GrandPiano vs Rhodes vs Clav vs Bass vs Clarinet\")\n",
    "five_instrument_classifier, testset, target, numTraining = generate_classifier_nb(\"./feature_vectors_5_instruments.csv\")\n",
    "predictions = five_instrument_classifier.predict(testset)\n",
    "print(\"\\tNumber of mislabeled points out of a total %d points : %d\\n\\tRatio correct:%f\\n\\tTrainingSetSize : %i\" \n",
    "      % (testset.shape[0],(target != predictions).sum(),(target == predictions).sum()/testset.shape[0], numTraining))\n",
    "'''\n",
    "    Clarinet vs Grand Piano\n",
    "'''\n",
    "print (\"Clarinet vs Grand Piano\")\n",
    "clar_vs_piano, testset,target, numTraining = generate_classifier_nb(\"./clar_vs_piano.csv\")\n",
    "predictions = clar_vs_piano.predict(testset)\n",
    "print(\"\\tNumber of mislabeled points out of a total %d points : %d\\n\\tRatio correct:%f\\n\\tTrainingSetSize : %i\" \n",
    "      % (testset.shape[0],(target != predictions).sum(),(target == predictions).sum()/testset.shape[0], numTraining))"
   ]
  },
  {
   "cell_type": "code",
   "execution_count": 3,
   "metadata": {
    "collapsed": false
   },
   "outputs": [
    {
     "name": "stdout",
     "output_type": "stream",
     "text": [
      "GrandPiano vs Bass Guitar Shifted\n",
      "\tNumber of mislabeled points out of a total 2690 points : 4\n",
      "\tRatio correct:0.998513\n",
      "\tTrainingSetSize : 6270\n",
      "GrandPiano vs Rhodes vs Clav Shifted\n",
      "\tNumber of mislabeled points out of a total 4035 points : 228\n",
      "\tRatio correct:0.943494\n",
      "\tTrainingSetSize : 9405\n",
      "GrandPiano vs Rhodes vs Clav vs Bass Shifted\n",
      "\tNumber of mislabeled points out of a total 5380 points : 235\n",
      "\tRatio correct:0.956320\n",
      "\tTrainingSetSize : 12540\n",
      "GrandPiano vs Clarinet Shifted\n",
      "\tNumber of mislabeled points out of a total 1250 points : 50\n",
      "\tRatio correct:0.960000\n",
      "\tTrainingSetSize : 2910\n",
      "Rhodes vs Clarinet Shifted\n",
      "\tNumber of mislabeled points out of a total 1250 points : 178\n",
      "\tRatio correct:0.857600\n",
      "\tTrainingSetSize : 2910\n",
      "Violin vs Grand Shifted\n",
      "\tNumber of mislabeled points out of a total 1202 points : 2\n",
      "\tRatio correct:0.998336\n",
      "\tTrainingSetSize : 2798\n"
     ]
    }
   ],
   "source": [
    "'''\n",
    "    grand piano + bass guitar classifier\n",
    "'''\n",
    "print (\"GrandPiano vs Bass Guitar Shifted\")\n",
    "two_instrument_classifier, testset, target, numTraining = generate_classifier_nb(\"./feature_vectors_2_instruments_shift.csv\")\n",
    "predictions = two_instrument_classifier.predict(testset)\n",
    "print(\"\\tNumber of mislabeled points out of a total %d points : %d\\n\\tRatio correct:%f\\n\\tTrainingSetSize : %i\" \n",
    "      % (testset.shape[0],(target != predictions).sum(),(target == predictions).sum()/testset.shape[0], numTraining))\n",
    "'''\n",
    "    three pianos\n",
    "'''\n",
    "print (\"GrandPiano vs Rhodes vs Clav Shifted\")\n",
    "grand_vs_rhodes_vs_clav_shift, testset, target, numTraining = generate_classifier_nb(\"./feature_vectors_3_instruments_shift.csv\")\n",
    "predictions = grand_vs_rhodes_vs_clav_shift.predict(testset)\n",
    "print(\"\\tNumber of mislabeled points out of a total %d points : %d\\n\\tRatio correct:%f\\n\\tTrainingSetSize : %i\" \n",
    "      % (testset.shape[0],(target != predictions).sum(),(target == predictions).sum()/testset.shape[0], numTraining))\n",
    "'''\n",
    "    all 4\n",
    "'''\n",
    "print (\"GrandPiano vs Rhodes vs Clav vs Bass Shifted\")\n",
    "grand_vs_rhodes_vs_clav_vs_bass, testset, target, numTraining = generate_classifier_nb(\"./feature_vectors_4_instruments_shift.csv\")\n",
    "predictions = grand_vs_rhodes_vs_clav_vs_bass.predict(testset)\n",
    "print(\"\\tNumber of mislabeled points out of a total %d points : %d\\n\\tRatio correct:%f\\n\\tTrainingSetSize : %i\" \n",
    "      % (testset.shape[0],(target != predictions).sum(),(target == predictions).sum()/testset.shape[0], numTraining))\n",
    "\n",
    "'''\n",
    "    Clarinet vs Grand shifted\n",
    "'''\n",
    "print (\"GrandPiano vs Clarinet Shifted\")\n",
    "grand_vs_clar_shift, testset, target, numTraining = generate_classifier_nb(\"./clar_vs_piano_shift.csv\")\n",
    "predictions = grand_vs_clar_shift.predict(testset)\n",
    "print(\"\\tNumber of mislabeled points out of a total %d points : %d\\n\\tRatio correct:%f\\n\\tTrainingSetSize : %i\" \n",
    "      % (testset.shape[0],(target != predictions).sum(),(target == predictions).sum()/testset.shape[0], numTraining))\n",
    "\n",
    "'''\n",
    "    Clarinet vs Rhodes shifted\n",
    "'''\n",
    "print (\"Rhodes vs Clarinet Shifted\")\n",
    "rhodes_vs_clar, testset, target, numTraining = generate_classifier_nb(\"./clar_vs_rhodes_shift.csv\")\n",
    "predictions = rhodes_vs_clar.predict(testset)\n",
    "print(\"\\tNumber of mislabeled points out of a total %d points : %d\\n\\tRatio correct:%f\\n\\tTrainingSetSize : %i\" \n",
    "      % (testset.shape[0],(target != predictions).sum(),(target == predictions).sum()/testset.shape[0], numTraining))\n",
    "\n",
    "\n",
    "'''\n",
    "    Violin vs Grand shifted\n",
    "'''\n",
    "print (\"Violin vs Grand Shifted\")\n",
    "violin_vs_grand_shifted, testset, target, numTraining = generate_classifier_nb(\"./violin_vs_grand_shift.csv\")\n",
    "predictions = violin_vs_grand_shifted.predict(testset)\n",
    "print(\"\\tNumber of mislabeled points out of a total %d points : %d\\n\\tRatio correct:%f\\n\\tTrainingSetSize : %i\" \n",
    "      % (testset.shape[0],(target != predictions).sum(),(target == predictions).sum()/testset.shape[0], numTraining))"
   ]
  },
  {
   "cell_type": "code",
   "execution_count": 11,
   "metadata": {
    "collapsed": false
   },
   "outputs": [
    {
     "name": "stdout",
     "output_type": "stream",
     "text": [
      "Game\n",
      "16\n",
      "16\n",
      "\tNumber of mislabeled points out of a total 16 points : 2\n",
      "\tRatio correct:0.875000\n"
     ]
    }
   ],
   "source": [
    "'''\n",
    "    Game\n",
    "'''\n",
    "print (\"Game\")\n",
    "target, testset = generate_test_set(\"./game_test_set.csv\")\n",
    "print (len(target))\n",
    "print (len(testset))\n",
    "\n",
    "predictions = grand_vs_rhodes_vs_clav_vs_bass.predict(testset)\n",
    "\n",
    "print(\"\\tNumber of mislabeled points out of a total %d points : %d\\n\\tRatio correct:%f\" \n",
    "      % (testset.shape[0],(target != predictions).sum(),(target == predictions).sum()/testset.shape[0]))"
   ]
  },
  {
   "cell_type": "code",
   "execution_count": 7,
   "metadata": {
    "collapsed": false
   },
   "outputs": [
    {
     "name": "stdout",
     "output_type": "stream",
     "text": [
      "Clarinet vs Violin Less Samples Sum Heuristic\n",
      "\tNumber of mislabeled points out of a total 55 points : 19\n",
      "\tRatio correct:0.654545\n",
      "\tTrainingSetSize : 119\n",
      "Clarinet vs Violin More Samples Sum Heuristic\n",
      "\tNumber of mislabeled points out of a total 917 points : 211\n",
      "\tRatio correct:0.769902\n",
      "\tTrainingSetSize : 2128\n"
     ]
    }
   ],
   "source": [
    "'''\n",
    "    Clarinet vs Violin Less Samples\n",
    "'''\n",
    "print (\"Clarinet vs Violin Less Samples Sum Heuristic\")\n",
    "clar_vs_piano_sum_less, testset,target, numTraining = generate_classifier_nb(\"./clar_vs_violin_less_samples_sum_heuristic.csv\")\n",
    "predictions = clar_vs_piano_sum_less.predict(testset)\n",
    "print(\"\\tNumber of mislabeled points out of a total %d points : %d\\n\\tRatio correct:%f\\n\\tTrainingSetSize : %i\" \n",
    "      % (testset.shape[0],(target != predictions).sum(),(target == predictions).sum()/testset.shape[0], numTraining))\n",
    "\n",
    "'''\n",
    "    Clarinet vs Violin More Samples\n",
    "'''\n",
    "print (\"Clarinet vs Violin More Samples Sum Heuristic\")\n",
    "clar_vs_piano_sum_more, testset,target, numTraining = generate_classifier_nb(\"./clar_vs_violin_more_samples_sum_heuristic.csv\")\n",
    "predictions = clar_vs_piano_sum_more.predict(testset)\n",
    "print(\"\\tNumber of mislabeled points out of a total %d points : %d\\n\\tRatio correct:%f\\n\\tTrainingSetSize : %i\" \n",
    "      % (testset.shape[0],(target != predictions).sum(),(target == predictions).sum()/testset.shape[0], numTraining))"
   ]
  },
  {
   "cell_type": "code",
   "execution_count": 6,
   "metadata": {
    "collapsed": false
   },
   "outputs": [
    {
     "name": "stdout",
     "output_type": "stream",
     "text": [
      "Clarinet vs Violin Less Samples\n",
      "\tNumber of mislabeled points out of a total 55 points : 20\n",
      "\tRatio correct:0.636364\n",
      "\tTrainingSetSize : 121\n",
      "Clarinet vs Violin More Samples\n",
      "\tNumber of mislabeled points out of a total 927 points : 237\n",
      "\tRatio correct:0.744337\n",
      "\tTrainingSetSize : 2153\n"
     ]
    }
   ],
   "source": [
    "'''\n",
    "    Clarinet vs Violin Less Samples\n",
    "'''\n",
    "print (\"Clarinet vs Violin Less Samples\")\n",
    "clar_vs_vio_less, testset,target, numTraining = generate_classifier_nb(\"./clar_vs_violin_less_samples.csv\")\n",
    "predictions = clar_vs_vio_less.predict(testset)\n",
    "print(\"\\tNumber of mislabeled points out of a total %d points : %d\\n\\tRatio correct:%f\\n\\tTrainingSetSize : %i\" \n",
    "      % (testset.shape[0],(target != predictions).sum(),(target == predictions).sum()/testset.shape[0], numTraining))\n",
    "\n",
    "'''\n",
    "    Clarinet vs Violin More Samples\n",
    "'''\n",
    "print (\"Clarinet vs Violin More Samples\")\n",
    "clar_vs_vio_more, testset,target, numTraining = generate_classifier_nb(\"./clar_vs_violin_more_samples.csv\")\n",
    "predictions = clar_vs_vio_more.predict(testset)\n",
    "print(\"\\tNumber of mislabeled points out of a total %d points : %d\\n\\tRatio correct:%f\\n\\tTrainingSetSize : %i\" \n",
    "      % (testset.shape[0],(target != predictions).sum(),(target == predictions).sum()/testset.shape[0], numTraining))"
   ]
  },
  {
   "cell_type": "code",
   "execution_count": null,
   "metadata": {
    "collapsed": true
   },
   "outputs": [],
   "source": []
  }
 ],
 "metadata": {
  "kernelspec": {
   "display_name": "Python 3",
   "language": "python",
   "name": "python3"
  },
  "language_info": {
   "codemirror_mode": {
    "name": "ipython",
    "version": 3
   },
   "file_extension": ".py",
   "mimetype": "text/x-python",
   "name": "python",
   "nbconvert_exporter": "python",
   "pygments_lexer": "ipython3",
   "version": "3.6.0"
  }
 },
 "nbformat": 4,
 "nbformat_minor": 2
}
