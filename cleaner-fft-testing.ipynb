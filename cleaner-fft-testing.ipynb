{
 "cells": [
  {
   "cell_type": "markdown",
   "metadata": {},
   "source": [
    "# Single Note (C3) 2 Instrument Classifier (Violin vs Clarinet)"
   ]
  },
  {
   "cell_type": "code",
   "execution_count": 25,
   "metadata": {
    "collapsed": true
   },
   "outputs": [],
   "source": [
    "from scipy.io import wavfile\n",
    "# from scipy.fftpack import fft\n",
    "from scipy import fftpack\n",
    "import matplotlib.pyplot as plt\n",
    "import numpy as np\n",
    "from pylab import *"
   ]
  },
  {
   "cell_type": "code",
   "execution_count": 26,
   "metadata": {
    "collapsed": true
   },
   "outputs": [],
   "source": [
    "def convert_sec_to_index (sampleRate, time):\n",
    "    return int(time * sampleRate)"
   ]
  },
  {
   "cell_type": "code",
   "execution_count": 27,
   "metadata": {
    "collapsed": false
   },
   "outputs": [],
   "source": [
    "import os\n",
    "def list_sound_files (sample_dir) :\n",
    "    sound_files = [file for file in os.listdir(sample_dir) if \".wav\" in file]\n",
    "    return sound_files"
   ]
  },
  {
   "cell_type": "code",
   "execution_count": 60,
   "metadata": {
    "collapsed": false
   },
   "outputs": [],
   "source": [
    "# print (iterable_sound_files (\"./Samples/Clarinet/C/\"))\n",
    "def perform_fft (sample_location):\n",
    "    sampFreq, snd = wavfile.read(sample_location)\n",
    "    \n",
    "    X = fft(snd)\n",
    "    freqs = np.fft.fftfreq(len(snd)) * sampFreq\n",
    "    \n",
    "    X = np.abs(X)/len(snd)\n",
    "    \n",
    "    X = X/max(X)\n",
    "    \n",
    "    print (len(X))\n",
    "    \n",
    "    fig, ax = plt.subplots()\n",
    "    ax.plot(freqs, X)\n",
    "    ax.set_xlim(0, 20000)\n",
    "\n"
   ]
  },
  {
   "cell_type": "code",
   "execution_count": 61,
   "metadata": {
    "collapsed": false
   },
   "outputs": [
    {
     "name": "stdout",
     "output_type": "stream",
     "text": [
      "52920\n",
      "52920\n"
     ]
    },
    {
     "data": {
      "image/png": "[encoded data removed]",
      "text/plain": [
       "<matplotlib.figure.Figure at 0x11c92f240>"
      ]
     },
     "metadata": {},
     "output_type": "display_data"
    },
    {
     "data": {
      "image/png": "[encoded data removed]",
      "text/plain": [
       "<matplotlib.figure.Figure at 0x11d05ee10>"
      ]
     },
     "metadata": {},
     "output_type": "display_data"
    }
   ],
   "source": [
    "%matplotlib inline\n",
    "\n",
    "perform_fft(\"./Samples/Grand/Shortened/0.wav\")\n",
    "perform_fft(\"./Samples/Rhodes/Shortened/0.wav\")"
   ]
  },
  {
   "cell_type": "markdown",
   "metadata": {
    "collapsed": true
   },
   "source": [
    "The shortened files do better in giving a cleaner fourier transform because less of the other things\n",
    "\n",
    "Cut files into pieces based on time -> process each segment to create 1 thing then combine them."
   ]
  },
  {
   "cell_type": "code",
   "execution_count": null,
   "metadata": {
    "collapsed": true
   },
   "outputs": [],
   "source": []
  }
 ],
 "metadata": {
  "kernelspec": {
   "display_name": "Python 3",
   "language": "python",
   "name": "python3"
  },
  "language_info": {
   "codemirror_mode": {
    "name": "ipython",
    "version": 3
   },
   "file_extension": ".py",
   "mimetype": "text/x-python",
   "name": "python",
   "nbconvert_exporter": "python",
   "pygments_lexer": "ipython3",
   "version": "3.6.0"
  }
 },
 "nbformat": 4,
 "nbformat_minor": 2
}
